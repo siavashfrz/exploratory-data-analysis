{
 "cells": [
  {
   "cell_type": "code",
   "execution_count": 31,
   "metadata": {},
   "outputs": [],
   "source": [
    "# import modules libraries in this section:\n",
    "import pyodbc\n",
    "import pandas as pd\n",
    "#import statsmodels.api as sm\n",
    "import numpy as np\n",
    "import seaborn as sns\n",
    "import matplotlib.pyplot as plt\n",
    "from sklearn.preprocessing import LabelEncoder\n",
    "import warnings\n",
    "\n",
    "from sklearn.model_selection import train_test_split\n",
    "from sklearn.preprocessing import StandardScaler\n",
    "import numpy as np # linear algebra\n",
    "import pandas as pd # data processing, CSV file I/O (e.g. pd.read_csv)\n",
    "import matplotlib.pyplot as plt\n",
    "\n",
    "import os\n",
    "warnings.filterwarnings('ignore')"
   ]
  },
  {
   "cell_type": "code",
   "execution_count": 32,
   "metadata": {},
   "outputs": [],
   "source": [
    "air = pd.read_csv('C:\\\\Users\\\\Win 1809 UEFI\\\\Desktop\\\\9999.csv')"
   ]
  },
  {
   "cell_type": "code",
   "execution_count": 33,
   "metadata": {
    "scrolled": true
   },
   "outputs": [
    {
     "data": {
      "text/html": [
       "<div>\n",
       "<style scoped>\n",
       "    .dataframe tbody tr th:only-of-type {\n",
       "        vertical-align: middle;\n",
       "    }\n",
       "\n",
       "    .dataframe tbody tr th {\n",
       "        vertical-align: top;\n",
       "    }\n",
       "\n",
       "    .dataframe thead th {\n",
       "        text-align: right;\n",
       "    }\n",
       "</style>\n",
       "<table border=\"1\" class=\"dataframe\">\n",
       "  <thead>\n",
       "    <tr style=\"text-align: right;\">\n",
       "      <th></th>\n",
       "      <th>airline</th>\n",
       "      <th>Type_Of_Traveller</th>\n",
       "      <th>seat_type</th>\n",
       "      <th>Seat_Comfort</th>\n",
       "      <th>Cabin_Staff</th>\n",
       "      <th>Food_Beverages</th>\n",
       "      <th>Inflight_Entertainment</th>\n",
       "      <th>Ground_Service</th>\n",
       "      <th>Wifi_Connectivity</th>\n",
       "      <th>Value_Money</th>\n",
       "      <th>Recommended</th>\n",
       "      <th>airline_sentiment</th>\n",
       "      <th>overall_rating</th>\n",
       "      <th>title</th>\n",
       "      <th>review</th>\n",
       "    </tr>\n",
       "  </thead>\n",
       "  <tbody>\n",
       "    <tr>\n",
       "      <th>0</th>\n",
       "      <td>Saudi Arabian</td>\n",
       "      <td>Family Leisure</td>\n",
       "      <td>Economy Class</td>\n",
       "      <td>4.0</td>\n",
       "      <td>3.0</td>\n",
       "      <td>1.0</td>\n",
       "      <td>NaN</td>\n",
       "      <td>4.0</td>\n",
       "      <td>NaN</td>\n",
       "      <td>4</td>\n",
       "      <td>1</td>\n",
       "      <td>Neutral</td>\n",
       "      <td>6</td>\n",
       "      <td>poor inflight meal</td>\n",
       "      <td>Saudi Arabian Airlines flight from Medina to R...</td>\n",
       "    </tr>\n",
       "  </tbody>\n",
       "</table>\n",
       "</div>"
      ],
      "text/plain": [
       "         airline Type_Of_Traveller      seat_type  Seat_Comfort  Cabin_Staff  \\\n",
       "0  Saudi Arabian    Family Leisure  Economy Class           4.0          3.0   \n",
       "\n",
       "   Food_Beverages  Inflight_Entertainment  Ground_Service  Wifi_Connectivity  \\\n",
       "0             1.0                     NaN             4.0                NaN   \n",
       "\n",
       "   Value_Money  Recommended airline_sentiment  overall_rating  \\\n",
       "0            4            1           Neutral               6   \n",
       "\n",
       "                title                                             review  \n",
       "0  poor inflight meal  Saudi Arabian Airlines flight from Medina to R...  "
      ]
     },
     "execution_count": 33,
     "metadata": {},
     "output_type": "execute_result"
    }
   ],
   "source": [
    "air.head(1)"
   ]
  },
  {
   "cell_type": "code",
   "execution_count": 34,
   "metadata": {
    "scrolled": false
   },
   "outputs": [
    {
     "name": "stdout",
     "output_type": "stream",
     "text": [
      "(4932, 15) \n",
      "\n",
      "Index(['airline', 'Type_Of_Traveller', 'seat_type', 'Seat_Comfort',\n",
      "       'Cabin_Staff', 'Food_Beverages', 'Inflight_Entertainment',\n",
      "       'Ground_Service', 'Wifi_Connectivity', 'Value_Money', 'Recommended',\n",
      "       'airline_sentiment', 'overall_rating', 'title', 'review'],\n",
      "      dtype='object') \n",
      "\n",
      "airline                    object\n",
      "Type_Of_Traveller          object\n",
      "seat_type                  object\n",
      "Seat_Comfort              float64\n",
      "Cabin_Staff               float64\n",
      "Food_Beverages            float64\n",
      "Inflight_Entertainment    float64\n",
      "Ground_Service            float64\n",
      "Wifi_Connectivity         float64\n",
      "Value_Money                 int64\n",
      "Recommended                 int64\n",
      "airline_sentiment          object\n",
      "overall_rating              int64\n",
      "title                      object\n",
      "review                     object\n",
      "dtype: object \n",
      "\n"
     ]
    }
   ],
   "source": [
    "df = air\n",
    "print(df.shape,'\\n')\n",
    "print(df.columns,'\\n')\n",
    "print(df.dtypes,'\\n')"
   ]
  },
  {
   "cell_type": "markdown",
   "metadata": {},
   "source": [
    "-----"
   ]
  },
  {
   "cell_type": "markdown",
   "metadata": {},
   "source": [
    "#Imputing missing values, dummy-coding columns, dropna to drop null values row, drop duplicates if any, drop irrelevant features"
   ]
  },
  {
   "cell_type": "code",
   "execution_count": 35,
   "metadata": {},
   "outputs": [
    {
     "name": "stdout",
     "output_type": "stream",
     "text": [
      "Total number of reviews for each airline \n",
      "  airline\n",
      "Emirates                    1189\n",
      "Turkish Airlines            1051\n",
      "Qatar Airways               1023\n",
      "Etihad Airways               843\n",
      "Oman Air                     177\n",
      "Flydubai                     141\n",
      "Kuwait Airways               140\n",
      "Saudi Arabian                128\n",
      "Royal Jordanian Airlines     121\n",
      "Gulf Air                     119\n",
      "Name: airline_sentiment, dtype: int64\n"
     ]
    }
   ],
   "source": [
    "print(\"Total number of reviews for each airline \\n \",df.groupby('airline')['airline_sentiment'].count().sort_values(ascending=False))"
   ]
  },
  {
   "cell_type": "code",
   "execution_count": 36,
   "metadata": {
    "scrolled": true
   },
   "outputs": [
    {
     "data": {
      "text/plain": [
       "airline                      0\n",
       "Type_Of_Traveller            0\n",
       "seat_type                    0\n",
       "Seat_Comfort                73\n",
       "Cabin_Staff                 78\n",
       "Food_Beverages             263\n",
       "Inflight_Entertainment     521\n",
       "Ground_Service              35\n",
       "Wifi_Connectivity         2664\n",
       "Value_Money                  0\n",
       "Recommended                  0\n",
       "airline_sentiment            0\n",
       "overall_rating               0\n",
       "title                        0\n",
       "review                       0\n",
       "dtype: int64"
      ]
     },
     "execution_count": 36,
     "metadata": {},
     "output_type": "execute_result"
    }
   ],
   "source": [
    "# Identify null values \n",
    "df.isnull().sum()"
   ]
  },
  {
   "cell_type": "code",
   "execution_count": 37,
   "metadata": {
    "scrolled": true
   },
   "outputs": [
    {
     "name": "stdout",
     "output_type": "stream",
     "text": [
      "Percentage null or na values in df\n"
     ]
    },
    {
     "data": {
      "text/plain": [
       "airline                    0.00\n",
       "Type_Of_Traveller          0.00\n",
       "seat_type                  0.00\n",
       "Seat_Comfort               1.48\n",
       "Cabin_Staff                1.58\n",
       "Food_Beverages             5.33\n",
       "Inflight_Entertainment    10.56\n",
       "Ground_Service             0.71\n",
       "Wifi_Connectivity         54.01\n",
       "Value_Money                0.00\n",
       "Recommended                0.00\n",
       "airline_sentiment          0.00\n",
       "overall_rating             0.00\n",
       "title                      0.00\n",
       "review                     0.00\n",
       "dtype: float64"
      ]
     },
     "execution_count": 37,
     "metadata": {},
     "output_type": "execute_result"
    }
   ],
   "source": [
    "print(\"Percentage null or na values in df\")\n",
    "((df.isnull() | df.isna()).sum() * 100 / df.index.size).round(2)"
   ]
  },
  {
   "cell_type": "code",
   "execution_count": 38,
   "metadata": {
    "scrolled": true
   },
   "outputs": [],
   "source": [
    "# Impute median 3 as a neutral score for empty rating ranging from 1-5. \n",
    "df['Seat_Comfort'].fillna(3.0,inplace=True)\n",
    "df['Cabin_Staff'].fillna(3.0,inplace=True)\n",
    "df['Food_Beverages'].fillna(3.0,inplace=True) \n",
    "df['Inflight_Entertainment'].fillna(3.0,inplace=True)\n",
    "df['Ground_Service'].fillna(3.0,inplace=True)\n",
    "df['Wifi_Connectivity'].fillna(3.0,inplace=True)\n",
    "df['Value_Money'].fillna(3.0,inplace=True)          "
   ]
  },
  {
   "cell_type": "code",
   "execution_count": 39,
   "metadata": {
    "scrolled": false
   },
   "outputs": [],
   "source": [
    "# change recommended value from True or False to 1 or 0 \n",
    "df_recomm = pd.get_dummies(df['Recommended'], drop_first=True)\n",
    "df_recomm.columns = ['Recommended']"
   ]
  },
  {
   "cell_type": "code",
   "execution_count": 40,
   "metadata": {},
   "outputs": [],
   "source": [
    "# concatenate all 3 dataframes together\n",
    "df = pd.concat([df, df_recomm], axis=1)"
   ]
  },
  {
   "cell_type": "code",
   "execution_count": 41,
   "metadata": {},
   "outputs": [],
   "source": [
    "# drop irrelevant columns and featured columns that had been dummy-coded. \n",
    "df.drop(columns=['title','airline_sentiment'],axis=1,inplace=True)"
   ]
  },
  {
   "cell_type": "code",
   "execution_count": 42,
   "metadata": {
    "scrolled": true
   },
   "outputs": [
    {
     "data": {
      "text/html": [
       "<div>\n",
       "<style scoped>\n",
       "    .dataframe tbody tr th:only-of-type {\n",
       "        vertical-align: middle;\n",
       "    }\n",
       "\n",
       "    .dataframe tbody tr th {\n",
       "        vertical-align: top;\n",
       "    }\n",
       "\n",
       "    .dataframe thead th {\n",
       "        text-align: right;\n",
       "    }\n",
       "</style>\n",
       "<table border=\"1\" class=\"dataframe\">\n",
       "  <thead>\n",
       "    <tr style=\"text-align: right;\">\n",
       "      <th></th>\n",
       "      <th>airline</th>\n",
       "      <th>Type_Of_Traveller</th>\n",
       "      <th>seat_type</th>\n",
       "      <th>Seat_Comfort</th>\n",
       "      <th>Cabin_Staff</th>\n",
       "      <th>Food_Beverages</th>\n",
       "      <th>Inflight_Entertainment</th>\n",
       "      <th>Ground_Service</th>\n",
       "      <th>Wifi_Connectivity</th>\n",
       "      <th>Value_Money</th>\n",
       "      <th>Recommended</th>\n",
       "      <th>overall_rating</th>\n",
       "      <th>review</th>\n",
       "      <th>Recommended</th>\n",
       "    </tr>\n",
       "  </thead>\n",
       "  <tbody>\n",
       "    <tr>\n",
       "      <th>0</th>\n",
       "      <td>Saudi Arabian</td>\n",
       "      <td>Family Leisure</td>\n",
       "      <td>Economy Class</td>\n",
       "      <td>4.0</td>\n",
       "      <td>3.0</td>\n",
       "      <td>1.0</td>\n",
       "      <td>3.0</td>\n",
       "      <td>4.0</td>\n",
       "      <td>3.0</td>\n",
       "      <td>4</td>\n",
       "      <td>1</td>\n",
       "      <td>6</td>\n",
       "      <td>Saudi Arabian Airlines flight from Medina to R...</td>\n",
       "      <td>1</td>\n",
       "    </tr>\n",
       "    <tr>\n",
       "      <th>1</th>\n",
       "      <td>Saudi Arabian</td>\n",
       "      <td>Business</td>\n",
       "      <td>Economy Class</td>\n",
       "      <td>4.0</td>\n",
       "      <td>5.0</td>\n",
       "      <td>4.0</td>\n",
       "      <td>3.0</td>\n",
       "      <td>4.0</td>\n",
       "      <td>3.0</td>\n",
       "      <td>4</td>\n",
       "      <td>1</td>\n",
       "      <td>8</td>\n",
       "      <td>I fly regularly between Dubai and Riyadh but t...</td>\n",
       "      <td>1</td>\n",
       "    </tr>\n",
       "    <tr>\n",
       "      <th>2</th>\n",
       "      <td>Saudi Arabian</td>\n",
       "      <td>Solo Leisure</td>\n",
       "      <td>Economy Class</td>\n",
       "      <td>3.0</td>\n",
       "      <td>4.0</td>\n",
       "      <td>5.0</td>\n",
       "      <td>2.0</td>\n",
       "      <td>2.0</td>\n",
       "      <td>3.0</td>\n",
       "      <td>4</td>\n",
       "      <td>0</td>\n",
       "      <td>6</td>\n",
       "      <td>Damman to Dubai in economy class with Saudi Ar...</td>\n",
       "      <td>0</td>\n",
       "    </tr>\n",
       "    <tr>\n",
       "      <th>3</th>\n",
       "      <td>Saudi Arabian</td>\n",
       "      <td>Couple Leisure</td>\n",
       "      <td>Economy Class</td>\n",
       "      <td>4.0</td>\n",
       "      <td>5.0</td>\n",
       "      <td>4.0</td>\n",
       "      <td>3.0</td>\n",
       "      <td>4.0</td>\n",
       "      <td>3.0</td>\n",
       "      <td>4</td>\n",
       "      <td>1</td>\n",
       "      <td>9</td>\n",
       "      <td>Istanbul to Johannesburg via Jeddah, and Saudi...</td>\n",
       "      <td>1</td>\n",
       "    </tr>\n",
       "    <tr>\n",
       "      <th>4</th>\n",
       "      <td>Saudi Arabian</td>\n",
       "      <td>Family Leisure</td>\n",
       "      <td>Economy Class</td>\n",
       "      <td>2.0</td>\n",
       "      <td>3.0</td>\n",
       "      <td>3.0</td>\n",
       "      <td>2.0</td>\n",
       "      <td>4.0</td>\n",
       "      <td>3.0</td>\n",
       "      <td>3</td>\n",
       "      <td>0</td>\n",
       "      <td>6</td>\n",
       "      <td>Kuala Lumpur to Jeddah with Saudi Arabian Airl...</td>\n",
       "      <td>0</td>\n",
       "    </tr>\n",
       "    <tr>\n",
       "      <th>...</th>\n",
       "      <td>...</td>\n",
       "      <td>...</td>\n",
       "      <td>...</td>\n",
       "      <td>...</td>\n",
       "      <td>...</td>\n",
       "      <td>...</td>\n",
       "      <td>...</td>\n",
       "      <td>...</td>\n",
       "      <td>...</td>\n",
       "      <td>...</td>\n",
       "      <td>...</td>\n",
       "      <td>...</td>\n",
       "      <td>...</td>\n",
       "      <td>...</td>\n",
       "    </tr>\n",
       "    <tr>\n",
       "      <th>4927</th>\n",
       "      <td>Turkish Airlines</td>\n",
       "      <td>Business</td>\n",
       "      <td>Economy Class</td>\n",
       "      <td>3.0</td>\n",
       "      <td>3.0</td>\n",
       "      <td>2.0</td>\n",
       "      <td>3.0</td>\n",
       "      <td>1.0</td>\n",
       "      <td>3.0</td>\n",
       "      <td>2</td>\n",
       "      <td>0</td>\n",
       "      <td>1</td>\n",
       "      <td>Berlin to Erbil via Istanbul. Over two hours...</td>\n",
       "      <td>0</td>\n",
       "    </tr>\n",
       "    <tr>\n",
       "      <th>4928</th>\n",
       "      <td>Turkish Airlines</td>\n",
       "      <td>Family Leisure</td>\n",
       "      <td>Economy Class</td>\n",
       "      <td>2.0</td>\n",
       "      <td>1.0</td>\n",
       "      <td>2.0</td>\n",
       "      <td>1.0</td>\n",
       "      <td>1.0</td>\n",
       "      <td>3.0</td>\n",
       "      <td>1</td>\n",
       "      <td>0</td>\n",
       "      <td>1</td>\n",
       "      <td>London Gatwick - Istanbul - Tashkent Departed...</td>\n",
       "      <td>0</td>\n",
       "    </tr>\n",
       "    <tr>\n",
       "      <th>4929</th>\n",
       "      <td>Turkish Airlines</td>\n",
       "      <td>Couple Leisure</td>\n",
       "      <td>Economy Class</td>\n",
       "      <td>3.0</td>\n",
       "      <td>1.0</td>\n",
       "      <td>3.0</td>\n",
       "      <td>3.0</td>\n",
       "      <td>1.0</td>\n",
       "      <td>2.0</td>\n",
       "      <td>3</td>\n",
       "      <td>0</td>\n",
       "      <td>4</td>\n",
       "      <td>Amsterdam to Abu Dhabi via Istanbul. Delays,...</td>\n",
       "      <td>0</td>\n",
       "    </tr>\n",
       "    <tr>\n",
       "      <th>4930</th>\n",
       "      <td>Turkish Airlines</td>\n",
       "      <td>Family Leisure</td>\n",
       "      <td>Economy Class</td>\n",
       "      <td>1.0</td>\n",
       "      <td>1.0</td>\n",
       "      <td>1.0</td>\n",
       "      <td>2.0</td>\n",
       "      <td>1.0</td>\n",
       "      <td>3.0</td>\n",
       "      <td>1</td>\n",
       "      <td>0</td>\n",
       "      <td>2</td>\n",
       "      <td>Istanbul to Johannesburg. Our flight on 30 D...</td>\n",
       "      <td>0</td>\n",
       "    </tr>\n",
       "    <tr>\n",
       "      <th>4931</th>\n",
       "      <td>Turkish Airlines</td>\n",
       "      <td>Family Leisure</td>\n",
       "      <td>Business Class</td>\n",
       "      <td>5.0</td>\n",
       "      <td>5.0</td>\n",
       "      <td>5.0</td>\n",
       "      <td>4.0</td>\n",
       "      <td>5.0</td>\n",
       "      <td>5.0</td>\n",
       "      <td>5</td>\n",
       "      <td>1</td>\n",
       "      <td>10</td>\n",
       "      <td>Johannesburg to Istanbul. We were well taken...</td>\n",
       "      <td>1</td>\n",
       "    </tr>\n",
       "  </tbody>\n",
       "</table>\n",
       "<p>4905 rows × 14 columns</p>\n",
       "</div>"
      ],
      "text/plain": [
       "               airline Type_Of_Traveller       seat_type  Seat_Comfort  \\\n",
       "0        Saudi Arabian    Family Leisure   Economy Class           4.0   \n",
       "1        Saudi Arabian          Business   Economy Class           4.0   \n",
       "2        Saudi Arabian      Solo Leisure   Economy Class           3.0   \n",
       "3        Saudi Arabian    Couple Leisure   Economy Class           4.0   \n",
       "4        Saudi Arabian    Family Leisure   Economy Class           2.0   \n",
       "...                ...               ...             ...           ...   \n",
       "4927  Turkish Airlines          Business   Economy Class           3.0   \n",
       "4928  Turkish Airlines    Family Leisure   Economy Class           2.0   \n",
       "4929  Turkish Airlines    Couple Leisure   Economy Class           3.0   \n",
       "4930  Turkish Airlines    Family Leisure   Economy Class           1.0   \n",
       "4931  Turkish Airlines    Family Leisure  Business Class           5.0   \n",
       "\n",
       "      Cabin_Staff  Food_Beverages  Inflight_Entertainment  Ground_Service  \\\n",
       "0             3.0             1.0                     3.0             4.0   \n",
       "1             5.0             4.0                     3.0             4.0   \n",
       "2             4.0             5.0                     2.0             2.0   \n",
       "3             5.0             4.0                     3.0             4.0   \n",
       "4             3.0             3.0                     2.0             4.0   \n",
       "...           ...             ...                     ...             ...   \n",
       "4927          3.0             2.0                     3.0             1.0   \n",
       "4928          1.0             2.0                     1.0             1.0   \n",
       "4929          1.0             3.0                     3.0             1.0   \n",
       "4930          1.0             1.0                     2.0             1.0   \n",
       "4931          5.0             5.0                     4.0             5.0   \n",
       "\n",
       "      Wifi_Connectivity  Value_Money  Recommended  overall_rating  \\\n",
       "0                   3.0            4            1               6   \n",
       "1                   3.0            4            1               8   \n",
       "2                   3.0            4            0               6   \n",
       "3                   3.0            4            1               9   \n",
       "4                   3.0            3            0               6   \n",
       "...                 ...          ...          ...             ...   \n",
       "4927                3.0            2            0               1   \n",
       "4928                3.0            1            0               1   \n",
       "4929                2.0            3            0               4   \n",
       "4930                3.0            1            0               2   \n",
       "4931                5.0            5            1              10   \n",
       "\n",
       "                                                 review  Recommended  \n",
       "0     Saudi Arabian Airlines flight from Medina to R...            1  \n",
       "1     I fly regularly between Dubai and Riyadh but t...            1  \n",
       "2     Damman to Dubai in economy class with Saudi Ar...            0  \n",
       "3     Istanbul to Johannesburg via Jeddah, and Saudi...            1  \n",
       "4     Kuala Lumpur to Jeddah with Saudi Arabian Airl...            0  \n",
       "...                                                 ...          ...  \n",
       "4927    Berlin to Erbil via Istanbul. Over two hours...            0  \n",
       "4928   London Gatwick - Istanbul - Tashkent Departed...            0  \n",
       "4929    Amsterdam to Abu Dhabi via Istanbul. Delays,...            0  \n",
       "4930    Istanbul to Johannesburg. Our flight on 30 D...            0  \n",
       "4931    Johannesburg to Istanbul. We were well taken...            1  \n",
       "\n",
       "[4905 rows x 14 columns]"
      ]
     },
     "execution_count": 42,
     "metadata": {},
     "output_type": "execute_result"
    }
   ],
   "source": [
    "# drops any row with null/Nan values as well as drops any duplicate (if exist)\n",
    "df.dropna(inplace=True)\n",
    "df.drop_duplicates() "
   ]
  },
  {
   "cell_type": "code",
   "execution_count": 43,
   "metadata": {},
   "outputs": [],
   "source": [
    "df['Ground_Service'] = df['Ground_Service'].astype('float')\n",
    "df['Wifi_Connectivity'] = df['Wifi_Connectivity'].astype('float')\n",
    "df['Value_Money'] = df['Value_Money'].astype('float')\n",
    "df['overall_rating'] = df['overall_rating'].astype('float')\n",
    "df['seat_type'] = df['seat_type'].astype('object')\n",
    "df['airline'] = df['airline'].astype('object')"
   ]
  },
  {
   "cell_type": "code",
   "execution_count": 44,
   "metadata": {},
   "outputs": [
    {
     "name": "stdout",
     "output_type": "stream",
     "text": [
      "Index(['airline', 'Type_Of_Traveller', 'seat_type', 'Seat_Comfort',\n",
      "       'Cabin_Staff', 'Food_Beverages', 'Inflight_Entertainment',\n",
      "       'Ground_Service', 'Wifi_Connectivity', 'Value_Money', 'Recommended',\n",
      "       'overall_rating', 'review', 'Recommended'],\n",
      "      dtype='object')\n",
      "airline                   0\n",
      "Type_Of_Traveller         0\n",
      "seat_type                 0\n",
      "Seat_Comfort              0\n",
      "Cabin_Staff               0\n",
      "Food_Beverages            0\n",
      "Inflight_Entertainment    0\n",
      "Ground_Service            0\n",
      "Wifi_Connectivity         0\n",
      "Value_Money               0\n",
      "Recommended               0\n",
      "overall_rating            0\n",
      "review                    0\n",
      "Recommended               0\n",
      "dtype: int64\n"
     ]
    },
    {
     "data": {
      "text/plain": [
       "(4932, 14)"
      ]
     },
     "execution_count": 44,
     "metadata": {},
     "output_type": "execute_result"
    }
   ],
   "source": [
    "print(df.columns)\n",
    "print(df.isnull().sum())\n",
    "df.shape"
   ]
  },
  {
   "cell_type": "code",
   "execution_count": 45,
   "metadata": {
    "scrolled": false
   },
   "outputs": [
    {
     "data": {
      "text/plain": [
       "airline                    object\n",
       "Type_Of_Traveller          object\n",
       "seat_type                  object\n",
       "Seat_Comfort              float64\n",
       "Cabin_Staff               float64\n",
       "Food_Beverages            float64\n",
       "Inflight_Entertainment    float64\n",
       "Ground_Service            float64\n",
       "Wifi_Connectivity         float64\n",
       "Value_Money               float64\n",
       "Recommended                 int64\n",
       "overall_rating            float64\n",
       "review                     object\n",
       "Recommended                 uint8\n",
       "dtype: object"
      ]
     },
     "execution_count": 45,
     "metadata": {},
     "output_type": "execute_result"
    }
   ],
   "source": [
    "df.dtypes"
   ]
  },
  {
   "cell_type": "code",
   "execution_count": 46,
   "metadata": {},
   "outputs": [],
   "source": [
    "labelencoder = LabelEncoder()\n",
    "df['airline'] = labelencoder.fit_transform(df['airline'])"
   ]
  },
  {
   "cell_type": "code",
   "execution_count": 47,
   "metadata": {},
   "outputs": [],
   "source": [
    "df['cabin_class'] = df['seat_type']\n",
    "# create dummy-coded columns for cabin class types\n",
    "from sklearn.preprocessing import LabelEncoder\n",
    "labelencoder = LabelEncoder()\n",
    "df['seat_type'] = labelencoder.fit_transform(df['seat_type'])"
   ]
  },
  {
   "cell_type": "code",
   "execution_count": 48,
   "metadata": {
    "scrolled": true
   },
   "outputs": [
    {
     "data": {
      "text/plain": [
       "Economy Class     3482\n",
       "Business Class    1360\n",
       "First Class         90\n",
       "Name: cabin_class, dtype: int64"
      ]
     },
     "execution_count": 48,
     "metadata": {},
     "output_type": "execute_result"
    }
   ],
   "source": [
    "df['cabin_class'].value_counts()"
   ]
  },
  {
   "cell_type": "code",
   "execution_count": 49,
   "metadata": {},
   "outputs": [
    {
     "data": {
      "text/plain": [
       "1    3482\n",
       "0    1360\n",
       "2      90\n",
       "Name: seat_type, dtype: int64"
      ]
     },
     "execution_count": 49,
     "metadata": {},
     "output_type": "execute_result"
    }
   ],
   "source": [
    "df['seat_type'].value_counts()"
   ]
  },
  {
   "cell_type": "markdown",
   "metadata": {},
   "source": [
    "#  correlation analysis"
   ]
  },
  {
   "cell_type": "code",
   "execution_count": 50,
   "metadata": {},
   "outputs": [],
   "source": [
    "# define a method for charting a correlation heat map: \n",
    "\n",
    "def correlation_heat_map(df):\n",
    "    corrs = df.corr()\n",
    "\n",
    "    # Set the default matplotlib figure size:\n",
    "    fig, ax = plt.subplots(figsize=(11,7))\n",
    "\n",
    "    # Generate a mask for the upper triangle (taken from seaborn example gallery)\n",
    "    mask = np.zeros_like(corrs, dtype=np.bool)\n",
    "    mask[np.triu_indices_from(mask)] = True\n",
    "\n",
    "    # Plot the heatmap with seaborn.\n",
    "    # Assign the matplotlib axis the function returns. This will let us resize the labels.\n",
    "    ax = sns.heatmap(corrs, mask=mask, annot=True)\n",
    "\n",
    "    # Resize the labels.\n",
    "    ax.set_xticklabels(ax.xaxis.get_ticklabels(), fontsize=14, rotation=90)\n",
    "    ax.set_yticklabels(ax.yaxis.get_ticklabels(), fontsize=14, rotation=0)\n",
    "\n",
    "    # If you put plt.show() at the bottom, it prevents those useless printouts from matplotlib.\n",
    "    plt.show()"
   ]
  },
  {
   "cell_type": "code",
   "execution_count": 51,
   "metadata": {
    "scrolled": false
   },
   "outputs": [
    {
     "data": {
      "image/png": "[encoded data removed]",
      "text/plain": [
       "<Figure size 792x504 with 2 Axes>"
      ]
     },
     "metadata": {
      "needs_background": "light"
     },
     "output_type": "display_data"
    }
   ],
   "source": [
    "correlation_heat_map(air)"
   ]
  }
 ],
 "metadata": {
  "kernelspec": {
   "display_name": "Python 3",
   "language": "python",
   "name": "python3"
  },
  "language_info": {
   "codemirror_mode": {
    "name": "ipython",
    "version": 3
   },
   "file_extension": ".py",
   "mimetype": "text/x-python",
   "name": "python",
   "nbconvert_exporter": "python",
   "pygments_lexer": "ipython3",
   "version": "3.8.5"
  }
 },
 "nbformat": 4,
 "nbformat_minor": 2
}
